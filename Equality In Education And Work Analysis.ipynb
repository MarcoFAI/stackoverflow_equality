{
 "cells": [
  {
   "cell_type": "markdown",
   "id": "fbaaa188",
   "metadata": {},
   "source": [
    "# Equality In Education And Work Analysis\n",
    "## by MarcoFAI"
   ]
  },
  {
   "cell_type": "markdown",
   "id": "3f8964f8",
   "metadata": {},
   "source": [
    "# Introduction\n",
    "\n",
    "For this project I was interested in analysing the equality in education and work using the [Stack Overflow Annual Developer Survey 2021](https://insights.stackoverflow.com/survey). I used the CRISP-DM Process:\n",
    "1. Business Understanding\n",
    "2. Data Understanding\n",
    "3. Prepare Data\n",
    "4. Data Modeling\n",
    "5. Evaluate the Results\n",
    "6. Deploy"
   ]
  },
  {
   "cell_type": "markdown",
   "id": "1ccf3462",
   "metadata": {},
   "source": [
    "# Business Understanding\n",
    "\n",
    "I am blessed with a healthy body and a healthy mind. I am also heterosexual. Nevertheless, those who cannot enjoy the blessing of health or those who are not heterosexual are also important to me. I constantly hear that they face discrimination and lack of equal opportunities. I wanted to find out how this plays out in areas like education and in jobs by analyzing survey data. In doing so, I came up with the following questions:\n",
    " - Do people with physical disabilities have disadvantages in education and work?\n",
    " - Do people with mental health issues have disadvantages in education and work?\n",
    " - Do not heterosexual people have disadvantages in education and work?\n",
    " - Do trans people have disadvantages in education and work?"
   ]
  },
  {
   "cell_type": "markdown",
   "id": "3027f92f",
   "metadata": {},
   "source": [
    "# Exploratory Data Analysis\n",
    "\n",
    "## Prepare Data\n",
    "\n",
    "First of all import libraries and data."
   ]
  },
  {
   "cell_type": "code",
   "execution_count": 1,
   "id": "eb4f23f9",
   "metadata": {},
   "outputs": [
    {
     "data": {
      "text/html": [
       "<div>\n",
       "<style scoped>\n",
       "    .dataframe tbody tr th:only-of-type {\n",
       "        vertical-align: middle;\n",
       "    }\n",
       "\n",
       "    .dataframe tbody tr th {\n",
       "        vertical-align: top;\n",
       "    }\n",
       "\n",
       "    .dataframe thead th {\n",
       "        text-align: right;\n",
       "    }\n",
       "</style>\n",
       "<table border=\"1\" class=\"dataframe\">\n",
       "  <thead>\n",
       "    <tr style=\"text-align: right;\">\n",
       "      <th></th>\n",
       "      <th>ResponseId</th>\n",
       "      <th>MainBranch</th>\n",
       "      <th>Employment</th>\n",
       "      <th>Country</th>\n",
       "      <th>US_State</th>\n",
       "      <th>UK_Country</th>\n",
       "      <th>EdLevel</th>\n",
       "      <th>Age1stCode</th>\n",
       "      <th>LearnCode</th>\n",
       "      <th>YearsCode</th>\n",
       "      <th>...</th>\n",
       "      <th>Age</th>\n",
       "      <th>Gender</th>\n",
       "      <th>Trans</th>\n",
       "      <th>Sexuality</th>\n",
       "      <th>Ethnicity</th>\n",
       "      <th>Accessibility</th>\n",
       "      <th>MentalHealth</th>\n",
       "      <th>SurveyLength</th>\n",
       "      <th>SurveyEase</th>\n",
       "      <th>ConvertedCompYearly</th>\n",
       "    </tr>\n",
       "  </thead>\n",
       "  <tbody>\n",
       "    <tr>\n",
       "      <th>0</th>\n",
       "      <td>1</td>\n",
       "      <td>I am a developer by profession</td>\n",
       "      <td>Independent contractor, freelancer, or self-em...</td>\n",
       "      <td>Slovakia</td>\n",
       "      <td>NaN</td>\n",
       "      <td>NaN</td>\n",
       "      <td>Secondary school (e.g. American high school, G...</td>\n",
       "      <td>18 - 24 years</td>\n",
       "      <td>Coding Bootcamp;Other online resources (ex: vi...</td>\n",
       "      <td>NaN</td>\n",
       "      <td>...</td>\n",
       "      <td>25-34 years old</td>\n",
       "      <td>Man</td>\n",
       "      <td>No</td>\n",
       "      <td>Straight / Heterosexual</td>\n",
       "      <td>White or of European descent</td>\n",
       "      <td>None of the above</td>\n",
       "      <td>None of the above</td>\n",
       "      <td>Appropriate in length</td>\n",
       "      <td>Easy</td>\n",
       "      <td>62268.0</td>\n",
       "    </tr>\n",
       "    <tr>\n",
       "      <th>1</th>\n",
       "      <td>2</td>\n",
       "      <td>I am a student who is learning to code</td>\n",
       "      <td>Student, full-time</td>\n",
       "      <td>Netherlands</td>\n",
       "      <td>NaN</td>\n",
       "      <td>NaN</td>\n",
       "      <td>Bachelorâs degree (B.A., B.S., B.Eng., etc.)</td>\n",
       "      <td>11 - 17 years</td>\n",
       "      <td>Other online resources (ex: videos, blogs, etc...</td>\n",
       "      <td>7</td>\n",
       "      <td>...</td>\n",
       "      <td>18-24 years old</td>\n",
       "      <td>Man</td>\n",
       "      <td>No</td>\n",
       "      <td>Straight / Heterosexual</td>\n",
       "      <td>White or of European descent</td>\n",
       "      <td>None of the above</td>\n",
       "      <td>None of the above</td>\n",
       "      <td>Appropriate in length</td>\n",
       "      <td>Easy</td>\n",
       "      <td>NaN</td>\n",
       "    </tr>\n",
       "    <tr>\n",
       "      <th>2</th>\n",
       "      <td>3</td>\n",
       "      <td>I am not primarily a developer, but I write co...</td>\n",
       "      <td>Student, full-time</td>\n",
       "      <td>Russian Federation</td>\n",
       "      <td>NaN</td>\n",
       "      <td>NaN</td>\n",
       "      <td>Bachelorâs degree (B.A., B.S., B.Eng., etc.)</td>\n",
       "      <td>11 - 17 years</td>\n",
       "      <td>Other online resources (ex: videos, blogs, etc...</td>\n",
       "      <td>NaN</td>\n",
       "      <td>...</td>\n",
       "      <td>18-24 years old</td>\n",
       "      <td>Man</td>\n",
       "      <td>No</td>\n",
       "      <td>Prefer not to say</td>\n",
       "      <td>Prefer not to say</td>\n",
       "      <td>None of the above</td>\n",
       "      <td>None of the above</td>\n",
       "      <td>Appropriate in length</td>\n",
       "      <td>Easy</td>\n",
       "      <td>NaN</td>\n",
       "    </tr>\n",
       "    <tr>\n",
       "      <th>3</th>\n",
       "      <td>4</td>\n",
       "      <td>I am a developer by profession</td>\n",
       "      <td>Employed full-time</td>\n",
       "      <td>Austria</td>\n",
       "      <td>NaN</td>\n",
       "      <td>NaN</td>\n",
       "      <td>Masterâs degree (M.A., M.S., M.Eng., MBA, etc.)</td>\n",
       "      <td>11 - 17 years</td>\n",
       "      <td>NaN</td>\n",
       "      <td>NaN</td>\n",
       "      <td>...</td>\n",
       "      <td>35-44 years old</td>\n",
       "      <td>Man</td>\n",
       "      <td>No</td>\n",
       "      <td>Straight / Heterosexual</td>\n",
       "      <td>White or of European descent</td>\n",
       "      <td>I am deaf / hard of hearing</td>\n",
       "      <td>NaN</td>\n",
       "      <td>Appropriate in length</td>\n",
       "      <td>Neither easy nor difficult</td>\n",
       "      <td>NaN</td>\n",
       "    </tr>\n",
       "    <tr>\n",
       "      <th>4</th>\n",
       "      <td>5</td>\n",
       "      <td>I am a developer by profession</td>\n",
       "      <td>Independent contractor, freelancer, or self-em...</td>\n",
       "      <td>United Kingdom of Great Britain and Northern I...</td>\n",
       "      <td>NaN</td>\n",
       "      <td>England</td>\n",
       "      <td>Masterâs degree (M.A., M.S., M.Eng., MBA, etc.)</td>\n",
       "      <td>5 - 10 years</td>\n",
       "      <td>Friend or family member</td>\n",
       "      <td>17</td>\n",
       "      <td>...</td>\n",
       "      <td>25-34 years old</td>\n",
       "      <td>Man</td>\n",
       "      <td>No</td>\n",
       "      <td>NaN</td>\n",
       "      <td>White or of European descent</td>\n",
       "      <td>None of the above</td>\n",
       "      <td>NaN</td>\n",
       "      <td>Appropriate in length</td>\n",
       "      <td>Easy</td>\n",
       "      <td>NaN</td>\n",
       "    </tr>\n",
       "  </tbody>\n",
       "</table>\n",
       "<p>5 rows × 48 columns</p>\n",
       "</div>"
      ],
      "text/plain": [
       "   ResponseId                                         MainBranch  \\\n",
       "0           1                     I am a developer by profession   \n",
       "1           2             I am a student who is learning to code   \n",
       "2           3  I am not primarily a developer, but I write co...   \n",
       "3           4                     I am a developer by profession   \n",
       "4           5                     I am a developer by profession   \n",
       "\n",
       "                                          Employment  \\\n",
       "0  Independent contractor, freelancer, or self-em...   \n",
       "1                                 Student, full-time   \n",
       "2                                 Student, full-time   \n",
       "3                                 Employed full-time   \n",
       "4  Independent contractor, freelancer, or self-em...   \n",
       "\n",
       "                                             Country US_State UK_Country  \\\n",
       "0                                           Slovakia      NaN        NaN   \n",
       "1                                        Netherlands      NaN        NaN   \n",
       "2                                 Russian Federation      NaN        NaN   \n",
       "3                                            Austria      NaN        NaN   \n",
       "4  United Kingdom of Great Britain and Northern I...      NaN    England   \n",
       "\n",
       "                                             EdLevel     Age1stCode  \\\n",
       "0  Secondary school (e.g. American high school, G...  18 - 24 years   \n",
       "1     Bachelorâs degree (B.A., B.S., B.Eng., etc.)  11 - 17 years   \n",
       "2     Bachelorâs degree (B.A., B.S., B.Eng., etc.)  11 - 17 years   \n",
       "3  Masterâs degree (M.A., M.S., M.Eng., MBA, etc.)  11 - 17 years   \n",
       "4  Masterâs degree (M.A., M.S., M.Eng., MBA, etc.)   5 - 10 years   \n",
       "\n",
       "                                           LearnCode YearsCode  ...  \\\n",
       "0  Coding Bootcamp;Other online resources (ex: vi...       NaN  ...   \n",
       "1  Other online resources (ex: videos, blogs, etc...         7  ...   \n",
       "2  Other online resources (ex: videos, blogs, etc...       NaN  ...   \n",
       "3                                                NaN       NaN  ...   \n",
       "4                            Friend or family member        17  ...   \n",
       "\n",
       "               Age Gender Trans                Sexuality  \\\n",
       "0  25-34 years old    Man    No  Straight / Heterosexual   \n",
       "1  18-24 years old    Man    No  Straight / Heterosexual   \n",
       "2  18-24 years old    Man    No        Prefer not to say   \n",
       "3  35-44 years old    Man    No  Straight / Heterosexual   \n",
       "4  25-34 years old    Man    No                      NaN   \n",
       "\n",
       "                      Ethnicity                Accessibility  \\\n",
       "0  White or of European descent            None of the above   \n",
       "1  White or of European descent            None of the above   \n",
       "2             Prefer not to say            None of the above   \n",
       "3  White or of European descent  I am deaf / hard of hearing   \n",
       "4  White or of European descent            None of the above   \n",
       "\n",
       "        MentalHealth           SurveyLength                  SurveyEase  \\\n",
       "0  None of the above  Appropriate in length                        Easy   \n",
       "1  None of the above  Appropriate in length                        Easy   \n",
       "2  None of the above  Appropriate in length                        Easy   \n",
       "3                NaN  Appropriate in length  Neither easy nor difficult   \n",
       "4                NaN  Appropriate in length                        Easy   \n",
       "\n",
       "  ConvertedCompYearly  \n",
       "0             62268.0  \n",
       "1                 NaN  \n",
       "2                 NaN  \n",
       "3                 NaN  \n",
       "4                 NaN  \n",
       "\n",
       "[5 rows x 48 columns]"
      ]
     },
     "execution_count": 1,
     "metadata": {},
     "output_type": "execute_result"
    }
   ],
   "source": [
    "# import library and dataset\n",
    "\n",
    "import pandas as pd\n",
    "import seaborn as sns\n",
    "\n",
    "df = pd.read_csv('./data/stack-overflow-developer-survey-2021/2021 Stack Overflow Survey Responses.csv', encoding=\"ISO-8859-1\")\n",
    "\n",
    "df.head()"
   ]
  },
  {
   "cell_type": "markdown",
   "id": "76c1b2cc",
   "metadata": {},
   "source": [
    "## Assessing the Data\n",
    "\n",
    "Columns important for the project:\n",
    "- **ConvertedCompYearly:** annualized salary of the participant\n",
    "- **EdLevel:** describes the highest level of formal education that the participant completed\n",
    "- **Accessibility:** physical limitation of the participant\n",
    "- **MentalHealth:** mental limitation of the participant\n",
    "- **Sexuality:** sexuality of the participant\n",
    "- **Trans:** if the participant is trans"
   ]
  },
  {
   "cell_type": "code",
   "execution_count": 2,
   "id": "ae32a025",
   "metadata": {},
   "outputs": [
    {
     "data": {
      "text/plain": [
       "0"
      ]
     },
     "execution_count": 2,
     "metadata": {},
     "output_type": "execute_result"
    }
   ],
   "source": [
    "# check for duplicate rows\n",
    "sum(df.duplicated())"
   ]
  },
  {
   "cell_type": "code",
   "execution_count": 3,
   "id": "00efff49",
   "metadata": {},
   "outputs": [],
   "source": [
    "# only keep relevant columns\n",
    "df = df[['ConvertedCompYearly', 'EdLevel', 'Accessibility', 'MentalHealth', 'Sexuality', 'Trans']]"
   ]
  },
  {
   "cell_type": "code",
   "execution_count": 4,
   "id": "96d7dfb1",
   "metadata": {},
   "outputs": [
    {
     "data": {
      "text/plain": [
       "(83439, 6)"
      ]
     },
     "execution_count": 4,
     "metadata": {},
     "output_type": "execute_result"
    }
   ],
   "source": [
    "# show shape and columns of dataset\n",
    "df.shape"
   ]
  },
  {
   "cell_type": "code",
   "execution_count": 5,
   "id": "217500e6",
   "metadata": {},
   "outputs": [
    {
     "name": "stdout",
     "output_type": "stream",
     "text": [
      "<class 'pandas.core.frame.DataFrame'>\n",
      "RangeIndex: 83439 entries, 0 to 83438\n",
      "Data columns (total 6 columns):\n",
      " #   Column               Non-Null Count  Dtype  \n",
      "---  ------               --------------  -----  \n",
      " 0   ConvertedCompYearly  46844 non-null  float64\n",
      " 1   EdLevel              83126 non-null  object \n",
      " 2   Accessibility        77603 non-null  object \n",
      " 3   MentalHealth         76920 non-null  object \n",
      " 4   Sexuality            73366 non-null  object \n",
      " 5   Trans                80678 non-null  object \n",
      "dtypes: float64(1), object(5)\n",
      "memory usage: 3.8+ MB\n"
     ]
    }
   ],
   "source": [
    "# info about datatypes and nulls\n",
    "df.info()"
   ]
  },
  {
   "cell_type": "code",
   "execution_count": 6,
   "id": "618cbc21",
   "metadata": {},
   "outputs": [
    {
     "data": {
      "text/plain": [
       "ConvertedCompYearly    43.858388\n",
       "Sexuality              12.072292\n",
       "MentalHealth            7.812893\n",
       "Accessibility           6.994331\n",
       "Trans                   3.309004\n",
       "EdLevel                 0.375124\n",
       "dtype: float64"
      ]
     },
     "execution_count": 6,
     "metadata": {},
     "output_type": "execute_result"
    }
   ],
   "source": [
    "# calculate percentage of missing values per column\n",
    "\n",
    "percent_missing = df.isnull().sum() * 100 / len(df)\n",
    "percent_missing.sort_values(ascending=False)"
   ]
  },
  {
   "cell_type": "markdown",
   "id": "0f3faee2",
   "metadata": {},
   "source": [
    "The column 'ConvertedCompYearly' has a lot of missing values."
   ]
  },
  {
   "cell_type": "code",
   "execution_count": 7,
   "id": "f363ed01",
   "metadata": {},
   "outputs": [
    {
     "data": {
      "text/plain": [
       "count    4.684400e+04\n",
       "mean     1.184262e+05\n",
       "std      5.272944e+05\n",
       "min      1.000000e+00\n",
       "25%      2.702500e+04\n",
       "50%      5.621100e+04\n",
       "75%      1.000000e+05\n",
       "max      4.524131e+07\n",
       "Name: ConvertedCompYearly, dtype: float64"
      ]
     },
     "execution_count": 7,
     "metadata": {},
     "output_type": "execute_result"
    }
   ],
   "source": [
    "# information on the annual income \n",
    "df.ConvertedCompYearly.describe()"
   ]
  },
  {
   "cell_type": "code",
   "execution_count": 8,
   "id": "4eb0fafb",
   "metadata": {},
   "outputs": [
    {
     "data": {
      "text/plain": [
       "None of the above                                                                                                                                                                                           72725\n",
       "Prefer not to say                                                                                                                                                                                            1918\n",
       "I am blind / have difficulty seeing                                                                                                                                                                          1030\n",
       "Or, in your own words:                                                                                                                                                                                        842\n",
       "I am deaf / hard of hearing                                                                                                                                                                                   442\n",
       "I am unable to / find it difficult to walk or stand without assistance                                                                                                                                        188\n",
       "I am unable to / find it difficult to type                                                                                                                                                                    160\n",
       "I am blind / have difficulty seeing;Or, in your own words:                                                                                                                                                     54\n",
       "I am deaf / hard of hearing;I am blind / have difficulty seeing;I am unable to / find it difficult to type;I am unable to / find it difficult to walk or stand without assistance                              49\n",
       "I am deaf / hard of hearing;I am blind / have difficulty seeing                                                                                                                                                45\n",
       "I am unable to / find it difficult to type;I am unable to / find it difficult to walk or stand without assistance                                                                                              31\n",
       "I am unable to / find it difficult to type;Or, in your own words:                                                                                                                                              16\n",
       "I am blind / have difficulty seeing;I am unable to / find it difficult to type                                                                                                                                 15\n",
       "I am deaf / hard of hearing;I am blind / have difficulty seeing;I am unable to / find it difficult to type;I am unable to / find it difficult to walk or stand without assistance;Or, in your own words:       14\n",
       "I am deaf / hard of hearing;Or, in your own words:                                                                                                                                                             10\n",
       "I am deaf / hard of hearing;I am unable to / find it difficult to walk or stand without assistance                                                                                                             10\n",
       "I am unable to / find it difficult to walk or stand without assistance;Or, in your own words:                                                                                                                   9\n",
       "I am deaf / hard of hearing;I am unable to / find it difficult to type                                                                                                                                          7\n",
       "I am blind / have difficulty seeing;I am unable to / find it difficult to type;I am unable to / find it difficult to walk or stand without assistance                                                           6\n",
       "I am deaf / hard of hearing;I am blind / have difficulty seeing;I am unable to / find it difficult to type                                                                                                      6\n",
       "I am blind / have difficulty seeing;I am unable to / find it difficult to walk or stand without assistance                                                                                                      5\n",
       "I am unable to / find it difficult to type;I am unable to / find it difficult to walk or stand without assistance;Or, in your own words:                                                                        4\n",
       "I am deaf / hard of hearing;I am blind / have difficulty seeing;Or, in your own words:                                                                                                                          4\n",
       "I am blind / have difficulty seeing;I am unable to / find it difficult to type;Or, in your own words:                                                                                                           3\n",
       "I am deaf / hard of hearing;I am blind / have difficulty seeing;I am unable to / find it difficult to walk or stand without assistance                                                                          2\n",
       "I am deaf / hard of hearing;I am unable to / find it difficult to type;I am unable to / find it difficult to walk or stand without assistance                                                                   2\n",
       "I am deaf / hard of hearing;I am blind / have difficulty seeing;I am unable to / find it difficult to walk or stand without assistance;Or, in your own words:                                                   2\n",
       "I am blind / have difficulty seeing;I am unable to / find it difficult to walk or stand without assistance;Or, in your own words:                                                                               1\n",
       "I am deaf / hard of hearing;I am blind / have difficulty seeing;I am unable to / find it difficult to type;Or, in your own words:                                                                               1\n",
       "I am blind / have difficulty seeing;I am unable to / find it difficult to type;I am unable to / find it difficult to walk or stand without assistance;Or, in your own words:                                    1\n",
       "I am deaf / hard of hearing;I am unable to / find it difficult to walk or stand without assistance;Or, in your own words:                                                                                       1\n",
       "Name: Accessibility, dtype: int64"
      ]
     },
     "execution_count": 8,
     "metadata": {},
     "output_type": "execute_result"
    }
   ],
   "source": [
    "# display all given unique answers regarding accessibility\n",
    "# multiple answers were possible\n",
    "\n",
    "df.Accessibility.value_counts()"
   ]
  },
  {
   "cell_type": "code",
   "execution_count": 9,
   "id": "543d8b3b",
   "metadata": {},
   "outputs": [
    {
     "data": {
      "text/plain": [
       "None of the above                                                                                                                                                                                                                                    56459\n",
       "Prefer not to say                                                                                                                                                                                                                                     3932\n",
       "I have a concentration and/or memory disorder (e.g. ADHD)                                                                                                                                                                                             3059\n",
       "I have an anxiety disorder                                                                                                                                                                                                                            2840\n",
       "I have a mood or emotional disorder (e.g. depression, bipolar disorder)                                                                                                                                                                               2324\n",
       "I have a mood or emotional disorder (e.g. depression, bipolar disorder);I have an anxiety disorder                                                                                                                                                    1811\n",
       "I have autism / an autism spectrum disorder (e.g. Asperger's)                                                                                                                                                                                         1224\n",
       "Or, in your own words:                                                                                                                                                                                                                                1050\n",
       "I have a concentration and/or memory disorder (e.g. ADHD);I have a mood or emotional disorder (e.g. depression, bipolar disorder);I have an anxiety disorder                                                                                          1009\n",
       "I have a concentration and/or memory disorder (e.g. ADHD);I have a mood or emotional disorder (e.g. depression, bipolar disorder)                                                                                                                      664\n",
       "I have a concentration and/or memory disorder (e.g. ADHD);I have an anxiety disorder                                                                                                                                                                   660\n",
       "I have a concentration and/or memory disorder (e.g. ADHD);I have a mood or emotional disorder (e.g. depression, bipolar disorder);I have an anxiety disorder;I have autism / an autism spectrum disorder (e.g. Asperger's)                             386\n",
       "I have a concentration and/or memory disorder (e.g. ADHD);I have autism / an autism spectrum disorder (e.g. Asperger's)                                                                                                                                377\n",
       "I have a mood or emotional disorder (e.g. depression, bipolar disorder);I have autism / an autism spectrum disorder (e.g. Asperger's)                                                                                                                  197\n",
       "I have a mood or emotional disorder (e.g. depression, bipolar disorder);I have an anxiety disorder;I have autism / an autism spectrum disorder (e.g. Asperger's)                                                                                       191\n",
       "I have an anxiety disorder;I have autism / an autism spectrum disorder (e.g. Asperger's)                                                                                                                                                               166\n",
       "I have a concentration and/or memory disorder (e.g. ADHD);I have a mood or emotional disorder (e.g. depression, bipolar disorder);I have autism / an autism spectrum disorder (e.g. Asperger's)                                                        115\n",
       "I have a concentration and/or memory disorder (e.g. ADHD);I have an anxiety disorder;I have autism / an autism spectrum disorder (e.g. Asperger's)                                                                                                     114\n",
       "I have a concentration and/or memory disorder (e.g. ADHD);Or, in your own words:                                                                                                                                                                        69\n",
       "I have a mood or emotional disorder (e.g. depression, bipolar disorder);Or, in your own words:                                                                                                                                                          56\n",
       "I have an anxiety disorder;Or, in your own words:                                                                                                                                                                                                       52\n",
       "I have a mood or emotional disorder (e.g. depression, bipolar disorder);I have an anxiety disorder;Or, in your own words:                                                                                                                               36\n",
       "I have a concentration and/or memory disorder (e.g. ADHD);I have a mood or emotional disorder (e.g. depression, bipolar disorder);I have an anxiety disorder;I have autism / an autism spectrum disorder (e.g. Asperger's);Or, in your own words:       26\n",
       "I have a concentration and/or memory disorder (e.g. ADHD);I have a mood or emotional disorder (e.g. depression, bipolar disorder);I have an anxiety disorder;Or, in your own words:                                                                     24\n",
       "I have a concentration and/or memory disorder (e.g. ADHD);I have a mood or emotional disorder (e.g. depression, bipolar disorder);Or, in your own words:                                                                                                21\n",
       "I have autism / an autism spectrum disorder (e.g. Asperger's);Or, in your own words:                                                                                                                                                                    20\n",
       "I have a concentration and/or memory disorder (e.g. ADHD);I have an anxiety disorder;Or, in your own words:                                                                                                                                             11\n",
       "I have a concentration and/or memory disorder (e.g. ADHD);I have autism / an autism spectrum disorder (e.g. Asperger's);Or, in your own words:                                                                                                           9\n",
       "I have a mood or emotional disorder (e.g. depression, bipolar disorder);I have autism / an autism spectrum disorder (e.g. Asperger's);Or, in your own words:                                                                                             7\n",
       "I have a mood or emotional disorder (e.g. depression, bipolar disorder);I have an anxiety disorder;I have autism / an autism spectrum disorder (e.g. Asperger's);Or, in your own words:                                                                  3\n",
       "I have a concentration and/or memory disorder (e.g. ADHD);I have a mood or emotional disorder (e.g. depression, bipolar disorder);I have autism / an autism spectrum disorder (e.g. Asperger's);Or, in your own words:                                   3\n",
       "I have an anxiety disorder;I have autism / an autism spectrum disorder (e.g. Asperger's);Or, in your own words:                                                                                                                                          3\n",
       "I have a concentration and/or memory disorder (e.g. ADHD);I have an anxiety disorder;I have autism / an autism spectrum disorder (e.g. Asperger's);Or, in your own words:                                                                                2\n",
       "Name: MentalHealth, dtype: int64"
      ]
     },
     "execution_count": 9,
     "metadata": {},
     "output_type": "execute_result"
    }
   ],
   "source": [
    "# display all given unique answers regarding mental health\n",
    "# multiple answers were possible\n",
    "\n",
    "df.MentalHealth.value_counts()"
   ]
  },
  {
   "cell_type": "code",
   "execution_count": 10,
   "id": "eb232607",
   "metadata": {},
   "outputs": [
    {
     "data": {
      "text/plain": [
       "Straight / Heterosexual                                                           61094\n",
       "Prefer not to say                                                                  4783\n",
       "Bisexual                                                                           2879\n",
       "Gay or Lesbian                                                                     1367\n",
       "Prefer to self-describe:                                                           1258\n",
       "Straight / Heterosexual;Bisexual                                                    492\n",
       "Queer                                                                               376\n",
       "Bisexual;Queer                                                                      273\n",
       "Straight / Heterosexual;Prefer to self-describe:                                    225\n",
       "Gay or Lesbian;Queer                                                                149\n",
       "Straight / Heterosexual;Queer                                                        78\n",
       "Bisexual;Gay or Lesbian                                                              71\n",
       "Prefer to self-describe:;Queer                                                       61\n",
       "Bisexual;Gay or Lesbian;Queer                                                        49\n",
       "Bisexual;Prefer to self-describe:                                                    36\n",
       "Bisexual;Prefer to self-describe:;Queer                                              26\n",
       "Straight / Heterosexual;Bisexual;Prefer to self-describe:;Gay or Lesbian;Queer       22\n",
       "Straight / Heterosexual;Gay or Lesbian                                               21\n",
       "Straight / Heterosexual;Bisexual;Gay or Lesbian;Queer                                21\n",
       "Straight / Heterosexual;Bisexual;Gay or Lesbian                                      18\n",
       "Straight / Heterosexual;Bisexual;Queer                                               15\n",
       "Prefer to self-describe:;Gay or Lesbian;Queer                                        14\n",
       "Straight / Heterosexual;Bisexual;Prefer to self-describe:                            11\n",
       "Bisexual;Prefer to self-describe:;Gay or Lesbian;Queer                               10\n",
       "Straight / Heterosexual;Prefer to self-describe:;Queer                                5\n",
       "Prefer to self-describe:;Gay or Lesbian                                               5\n",
       "Bisexual;Prefer to self-describe:;Gay or Lesbian                                      3\n",
       "Straight / Heterosexual;Bisexual;Prefer to self-describe:;Gay or Lesbian              2\n",
       "Straight / Heterosexual;Gay or Lesbian;Queer                                          1\n",
       "Straight / Heterosexual;Bisexual;Prefer to self-describe:;Queer                       1\n",
       "Name: Sexuality, dtype: int64"
      ]
     },
     "execution_count": 10,
     "metadata": {},
     "output_type": "execute_result"
    }
   ],
   "source": [
    "# display all given unique answers regarding sexuality\n",
    "# multiple answers were possible\n",
    "\n",
    "df.Sexuality.value_counts()"
   ]
  },
  {
   "cell_type": "code",
   "execution_count": 11,
   "id": "ceee7420",
   "metadata": {},
   "outputs": [
    {
     "data": {
      "text/plain": [
       "No                        77275\n",
       "Prefer not to say          1764\n",
       "Yes                        1035\n",
       "Or, in your own words:      604\n",
       "Name: Trans, dtype: int64"
      ]
     },
     "execution_count": 11,
     "metadata": {},
     "output_type": "execute_result"
    }
   ],
   "source": [
    "# display all given unique answers regarding being trans\n",
    "\n",
    "df.Trans.value_counts()"
   ]
  },
  {
   "cell_type": "markdown",
   "id": "e9887970",
   "metadata": {},
   "source": [
    "## Cleaning The Data\n",
    "The columns 'Accessibility', 'MentalHealth', 'Sexuality' and 'Trans' have values that we cannot work with. These are the answers 'Or, in your own words:', 'Prefer not to say'. We filter these answers and NaN values out."
   ]
  },
  {
   "cell_type": "code",
   "execution_count": 12,
   "id": "3688cbd2",
   "metadata": {},
   "outputs": [],
   "source": [
    "df_acc_all = df.dropna(subset=['Accessibility']) # filter out Null values\n",
    "df_acc_all = df_acc_all[~df_acc_all.Accessibility.isin(['Or, in your own words:', 'Prefer not to say'])] # filter out values we cannot work with"
   ]
  },
  {
   "cell_type": "code",
   "execution_count": 13,
   "id": "ab476a60",
   "metadata": {},
   "outputs": [],
   "source": [
    "df_mh_all = df.dropna(subset=['MentalHealth']) # filter out Null values\n",
    "df_mh_all = df_mh_all[~df_mh_all.MentalHealth.isin(['Or, in your own words:', 'Prefer not to say'])] # filter out values we cannot work with"
   ]
  },
  {
   "cell_type": "code",
   "execution_count": 14,
   "id": "5f21d9b3",
   "metadata": {},
   "outputs": [],
   "source": [
    "df_str_all = df.dropna(subset=['Sexuality']) # filter out Null values\n",
    "df_str_all = df_str_all[~df_str_all.Sexuality.isin(['Or, in your own words:', 'Prefer not to say'])] # filter out values we cannot work with"
   ]
  },
  {
   "cell_type": "code",
   "execution_count": 15,
   "id": "ba48ec65",
   "metadata": {},
   "outputs": [],
   "source": [
    "df_trans_all = df.dropna(subset=['Trans']) # filter out Null values\n",
    "df_trans_all = df_trans_all[~df_trans_all.Trans.isin(['Or, in your own words:', 'Prefer not to say'])] # filter out values we cannot work with"
   ]
  },
  {
   "cell_type": "markdown",
   "id": "cee46021",
   "metadata": {},
   "source": [
    "## Exploratory Data Analysis: Analyse and Visualise\n",
    "### Accessibility\n",
    "First we will have a look at accessibility. The dataset is divided into 2. In the first dataset are all respondents who did NOT answer that they do NOT have an impairment. In the other are those who have indicated that they do have one."
   ]
  },
  {
   "cell_type": "code",
   "execution_count": 16,
   "id": "f43ceb28",
   "metadata": {},
   "outputs": [],
   "source": [
    "df_acc = df_acc_all[df_acc_all.Accessibility != 'None of the above'] # Dataset with participants with limitation\n",
    "df_not_acc = df_acc_all[df_acc_all.Accessibility == 'None of the above'] # Dataset with participants without limitation"
   ]
  },
  {
   "cell_type": "code",
   "execution_count": 17,
   "id": "9f9133ca",
   "metadata": {},
   "outputs": [
    {
     "name": "stdout",
     "output_type": "stream",
     "text": [
      "Number Of Survey Participants With Physical Limitation: 2118, 0.03%, \n",
      "Number Of Survey Participants Without Physical Limitation: 72725, 0.97%\n"
     ]
    }
   ],
   "source": [
    "print('Number Of Survey Participants With Physical Limitation:', str(df_acc.shape[0])+',', str(round(df_acc.shape[0]/(df_acc.shape[0]+df_not_acc.shape[0]),2))+'%,', '\\nNumber Of Survey Participants Without Physical Limitation:', str(df_not_acc.shape[0])+',', str(round(df_not_acc.shape[0]/(df_acc.shape[0]+df_not_acc.shape[0]),2))+'%')"
   ]
  },
  {
   "cell_type": "code",
   "execution_count": 18,
   "id": "01e94f2f",
   "metadata": {},
   "outputs": [
    {
     "name": "stdout",
     "output_type": "stream",
     "text": [
      "Mean Salary Of Survey Participants With Physical Limitation: 219832.56 \n",
      "Mean Salary Of Survey Participants Without Physical Limitation: 115596.82 \n",
      "Difference: 104235.74\n"
     ]
    }
   ],
   "source": [
    "# calculate the mean compensation for both groups \n",
    "\n",
    "mean_acc = round(df_acc.ConvertedCompYearly.dropna().mean(), 2)\n",
    "mean_not_acc = round(df_not_acc.ConvertedCompYearly.dropna().mean(), 2)\n",
    " \n",
    "print('Mean Salary Of Survey Participants With Physical Limitation:', mean_acc, '\\nMean Salary Of Survey Participants Without Physical Limitation:', mean_not_acc, '\\nDifference:', round(mean_acc-mean_not_acc, 2))"
   ]
  },
  {
   "cell_type": "code",
   "execution_count": 19,
   "id": "8d4600af",
   "metadata": {},
   "outputs": [],
   "source": [
    "def calc_dist_ed_level(df):\n",
    "    \"\"\"\n",
    "    Calculates the distribution of the degrees of education in the dataset.\n",
    "    \n",
    "    input: \n",
    "            df: Dataframe for which the distribution of the degrees of education is calculated\n",
    "    output:\n",
    "            ed_dist: Distribution of the degrees of education of the dataframe\n",
    "    \"\"\" \n",
    "    ed_dist = df['EdLevel'].dropna().value_counts(normalize=True).reset_index()\n",
    "    ed_dist.rename(columns={'index': 'EdLevel', 'EdLevel': 'count'}, inplace=True)\n",
    "    ed_dist.set_index('EdLevel', inplace=True)\n",
    "    return ed_dist"
   ]
  },
  {
   "cell_type": "code",
   "execution_count": 20,
   "id": "5e1109a1",
   "metadata": {},
   "outputs": [
    {
     "data": {
      "text/html": [
       "<style type=\"text/css\">\n",
       "#T_cd654_row0_col2 {\n",
       "  width: 10em;\n",
       "  background: linear-gradient(90deg, #d65f5f 70.4%, transparent 70.4%);\n",
       "}\n",
       "#T_cd654_row1_col2 {\n",
       "  width: 10em;\n",
       "  background: linear-gradient(90deg, transparent 70.4%, #5fba7d 70.4%, #5fba7d 99.1%, transparent 99.1%);\n",
       "}\n",
       "#T_cd654_row2_col2 {\n",
       "  width: 10em;\n",
       "  background: linear-gradient(90deg, transparent 70.4%, #5fba7d 70.4%, #5fba7d 99.3%, transparent 99.3%);\n",
       "}\n",
       "#T_cd654_row3_col2 {\n",
       "  width: 10em;\n",
       "  background: linear-gradient(90deg, transparent 21.6%, #d65f5f 21.6%, #d65f5f 70.4%, transparent 70.4%);\n",
       "}\n",
       "#T_cd654_row4_col2 {\n",
       "  width: 10em;\n",
       "  background: linear-gradient(90deg, transparent 70.4%, #5fba7d 70.4%, #5fba7d 100.0%, transparent 100.0%);\n",
       "}\n",
       "#T_cd654_row5_col2 {\n",
       "  width: 10em;\n",
       "  background: linear-gradient(90deg, transparent 70.4%, #5fba7d 70.4%, #5fba7d 81.3%, transparent 81.3%);\n",
       "}\n",
       "#T_cd654_row6_col2 {\n",
       "  width: 10em;\n",
       "  background: linear-gradient(90deg, transparent 70.4%, #5fba7d 70.4%, #5fba7d 87.1%, transparent 87.1%);\n",
       "}\n",
       "#T_cd654_row7_col2 {\n",
       "  width: 10em;\n",
       "  background: linear-gradient(90deg, transparent 67.8%, #d65f5f 67.8%, #d65f5f 70.4%, transparent 70.4%);\n",
       "}\n",
       "#T_cd654_row8_col2 {\n",
       "  width: 10em;\n",
       "  background: linear-gradient(90deg, transparent 70.4%, #5fba7d 70.4%, #5fba7d 77.3%, transparent 77.3%);\n",
       "}\n",
       "</style>\n",
       "<table id=\"T_cd654\">\n",
       "  <thead>\n",
       "    <tr>\n",
       "      <th class=\"blank level0\" >&nbsp;</th>\n",
       "      <th id=\"T_cd654_level0_col0\" class=\"col_heading level0 col0\" >Physically Limited</th>\n",
       "      <th id=\"T_cd654_level0_col1\" class=\"col_heading level0 col1\" >Not Physically Limited</th>\n",
       "      <th id=\"T_cd654_level0_col2\" class=\"col_heading level0 col2\" >Diff_Ed_Values</th>\n",
       "    </tr>\n",
       "    <tr>\n",
       "      <th class=\"index_name level0\" >EdLevel</th>\n",
       "      <th class=\"blank col0\" >&nbsp;</th>\n",
       "      <th class=\"blank col1\" >&nbsp;</th>\n",
       "      <th class=\"blank col2\" >&nbsp;</th>\n",
       "    </tr>\n",
       "  </thead>\n",
       "  <tbody>\n",
       "    <tr>\n",
       "      <th id=\"T_cd654_level0_row0\" class=\"row_heading level0 row0\" >Bachelorâs degree (B.A., B.S., B.Eng., etc.)</th>\n",
       "      <td id=\"T_cd654_row0_col0\" class=\"data row0 col0\" >0.322428</td>\n",
       "      <td id=\"T_cd654_row0_col1\" class=\"data row0 col1\" >0.430199</td>\n",
       "      <td id=\"T_cd654_row0_col2\" class=\"data row0 col2\" >-0.107771</td>\n",
       "    </tr>\n",
       "    <tr>\n",
       "      <th id=\"T_cd654_level0_row1\" class=\"row_heading level0 row1\" >Some college/university study without earning a degree</th>\n",
       "      <td id=\"T_cd654_row1_col0\" class=\"data row1 col0\" >0.170697</td>\n",
       "      <td id=\"T_cd654_row1_col1\" class=\"data row1 col1\" >0.126753</td>\n",
       "      <td id=\"T_cd654_row1_col2\" class=\"data row1 col2\" >0.043944</td>\n",
       "    </tr>\n",
       "    <tr>\n",
       "      <th id=\"T_cd654_level0_row2\" class=\"row_heading level0 row2\" >Secondary school (e.g. American high school, German Realschule or Gymnasium, etc.)</th>\n",
       "      <td id=\"T_cd654_row2_col0\" class=\"data row2 col0\" >0.158369</td>\n",
       "      <td id=\"T_cd654_row2_col1\" class=\"data row2 col1\" >0.114095</td>\n",
       "      <td id=\"T_cd654_row2_col2\" class=\"data row2 col2\" >0.044274</td>\n",
       "    </tr>\n",
       "    <tr>\n",
       "      <th id=\"T_cd654_level0_row3\" class=\"row_heading level0 row3\" >Masterâs degree (M.A., M.S., M.Eng., MBA, etc.)</th>\n",
       "      <td id=\"T_cd654_row3_col0\" class=\"data row3 col0\" >0.138928</td>\n",
       "      <td id=\"T_cd654_row3_col1\" class=\"data row3 col1\" >0.213564</td>\n",
       "      <td id=\"T_cd654_row3_col2\" class=\"data row3 col2\" >-0.074635</td>\n",
       "    </tr>\n",
       "    <tr>\n",
       "      <th id=\"T_cd654_level0_row4\" class=\"row_heading level0 row4\" >Primary/elementary school</th>\n",
       "      <td id=\"T_cd654_row4_col0\" class=\"data row4 col0\" >0.073020</td>\n",
       "      <td id=\"T_cd654_row4_col1\" class=\"data row4 col1\" >0.027711</td>\n",
       "      <td id=\"T_cd654_row4_col2\" class=\"data row4 col2\" >0.045309</td>\n",
       "    </tr>\n",
       "    <tr>\n",
       "      <th id=\"T_cd654_level0_row5\" class=\"row_heading level0 row5\" >Associate degree (A.A., A.S., etc.)</th>\n",
       "      <td id=\"T_cd654_row5_col0\" class=\"data row5 col0\" >0.043148</td>\n",
       "      <td id=\"T_cd654_row5_col1\" class=\"data row5 col1\" >0.026389</td>\n",
       "      <td id=\"T_cd654_row5_col2\" class=\"data row5 col2\" >0.016759</td>\n",
       "    </tr>\n",
       "    <tr>\n",
       "      <th id=\"T_cd654_level0_row6\" class=\"row_heading level0 row6\" >Something else</th>\n",
       "      <td id=\"T_cd654_row6_col0\" class=\"data row6 col0\" >0.041726</td>\n",
       "      <td id=\"T_cd654_row6_col1\" class=\"data row6 col1\" >0.016156</td>\n",
       "      <td id=\"T_cd654_row6_col2\" class=\"data row6 col2\" >0.025570</td>\n",
       "    </tr>\n",
       "    <tr>\n",
       "      <th id=\"T_cd654_level0_row7\" class=\"row_heading level0 row7\" >Other doctoral degree (Ph.D., Ed.D., etc.)</th>\n",
       "      <td id=\"T_cd654_row7_col0\" class=\"data row7 col0\" >0.027027</td>\n",
       "      <td id=\"T_cd654_row7_col1\" class=\"data row7 col1\" >0.031017</td>\n",
       "      <td id=\"T_cd654_row7_col2\" class=\"data row7 col2\" >-0.003990</td>\n",
       "    </tr>\n",
       "    <tr>\n",
       "      <th id=\"T_cd654_level0_row8\" class=\"row_heading level0 row8\" >Professional degree (JD, MD, etc.)</th>\n",
       "      <td id=\"T_cd654_row8_col0\" class=\"data row8 col0\" >0.024656</td>\n",
       "      <td id=\"T_cd654_row8_col1\" class=\"data row8 col1\" >0.014117</td>\n",
       "      <td id=\"T_cd654_row8_col2\" class=\"data row8 col2\" >0.010539</td>\n",
       "    </tr>\n",
       "  </tbody>\n",
       "</table>\n"
      ],
      "text/plain": [
       "<pandas.io.formats.style.Styler at 0x1a751365100>"
      ]
     },
     "execution_count": 20,
     "metadata": {},
     "output_type": "execute_result"
    }
   ],
   "source": [
    "# visualize the differences in degree of education of both groups\n",
    "\n",
    "mean_acc_perc = calc_dist_ed_level(df_acc) # get the distribution of the degrees of education of participants with limitations\n",
    "mean_not_acc_perc = calc_dist_ed_level(df_not_acc) # get the distribution of the degrees of education of participants without limitations\n",
    "\n",
    "comp_df = pd.merge(mean_acc_perc, mean_not_acc_perc, left_index=True, right_index=True) # merge both datasets\n",
    "comp_df.columns = ['Physically Limited', 'Not Physically Limited'] # rename columns\n",
    "comp_df['Diff_Ed_Values'] = comp_df['Physically Limited'] - comp_df['Not Physically Limited'] # calculate the differences\n",
    "comp_df.style.bar(subset=['Diff_Ed_Values'], align='mid', color=['#d65f5f', '#5fba7d']) # plot the columns and the differences"
   ]
  },
  {
   "cell_type": "markdown",
   "id": "3afbe6d4",
   "metadata": {},
   "source": [
    "Respondents with a physical limitation have a higher average salary but a lower average educational degree."
   ]
  },
  {
   "cell_type": "markdown",
   "id": "696baf87",
   "metadata": {},
   "source": [
    "## Mental Health\n",
    "Next we will have a look at mental health. The dataset is divided into 2. In the first dataset are all respondents who did NOT answer that they do NOT have mental health problems. In the other are those who have indicated that they do have one."
   ]
  },
  {
   "cell_type": "code",
   "execution_count": 21,
   "id": "62531500",
   "metadata": {},
   "outputs": [],
   "source": [
    "df_mh = df_mh_all[df_mh_all.MentalHealth != 'None of the above'] # Dataset with participants with bad mental health\n",
    "df_not_mh = df_mh_all[df_mh_all.MentalHealth == 'None of the above'] # Dataset with participants with good mental health"
   ]
  },
  {
   "cell_type": "code",
   "execution_count": 22,
   "id": "669e4978",
   "metadata": {},
   "outputs": [
    {
     "name": "stdout",
     "output_type": "stream",
     "text": [
      "Number Mentally Battered: 15479, 0.22%, \n",
      "Number Not Mentally Battered: 56459, 0.78%\n"
     ]
    }
   ],
   "source": [
    "print('Number Mentally Battered:', str(df_mh.shape[0])+',', str(round(df_mh.shape[0]/(df_mh.shape[0]+df_not_mh.shape[0]),2))+'%,', '\\nNumber Not Mentally Battered:', str(df_not_mh.shape[0])+',', str(round(df_not_mh.shape[0]/(df_mh.shape[0]+df_not_mh.shape[0]),2))+'%')"
   ]
  },
  {
   "cell_type": "code",
   "execution_count": 23,
   "id": "3f4c2225",
   "metadata": {},
   "outputs": [
    {
     "name": "stdout",
     "output_type": "stream",
     "text": [
      "Mean Salary Mentally Battered: 141374.86 \n",
      "Mean Salary Not Mentally Battered: 110175.55 \n",
      "Difference: 31199.31\n"
     ]
    }
   ],
   "source": [
    "# calculate the mean compensation for both groups \n",
    "\n",
    "mean_mh = round(df_mh.ConvertedCompYearly.mean(), 2)\n",
    "mean_not_mh = round(df_not_mh.ConvertedCompYearly.mean(), 2)\n",
    " \n",
    "print('Mean Salary Mentally Battered:', mean_mh, '\\nMean Salary Not Mentally Battered:', mean_not_mh, '\\nDifference:', round(mean_mh-mean_not_mh, 2))"
   ]
  },
  {
   "cell_type": "code",
   "execution_count": 24,
   "id": "ff4d6ca5",
   "metadata": {},
   "outputs": [
    {
     "data": {
      "text/html": [
       "<style type=\"text/css\">\n",
       "#T_1fe27_row0_col2 {\n",
       "  width: 10em;\n",
       "  background: linear-gradient(90deg, transparent 34.2%, #d65f5f 34.2%, #d65f5f 56.3%, transparent 56.3%);\n",
       "}\n",
       "#T_1fe27_row1_col2 {\n",
       "  width: 10em;\n",
       "  background: linear-gradient(90deg, transparent 56.3%, #5fba7d 56.3%, #5fba7d 100.0%, transparent 100.0%);\n",
       "}\n",
       "#T_1fe27_row2_col2 {\n",
       "  width: 10em;\n",
       "  background: linear-gradient(90deg, #d65f5f 56.3%, transparent 56.3%);\n",
       "}\n",
       "#T_1fe27_row3_col2 {\n",
       "  width: 10em;\n",
       "  background: linear-gradient(90deg, transparent 56.3%, #5fba7d 56.3%, #5fba7d 77.5%, transparent 77.5%);\n",
       "}\n",
       "#T_1fe27_row4_col2 {\n",
       "  width: 10em;\n",
       "  background: linear-gradient(90deg, transparent 56.3%, #5fba7d 56.3%, #5fba7d 67.7%, transparent 67.7%);\n",
       "}\n",
       "#T_1fe27_row5_col2 {\n",
       "  width: 10em;\n",
       "  background: linear-gradient(90deg, transparent 56.3%, #5fba7d 56.3%, #5fba7d 62.0%, transparent 62.0%);\n",
       "}\n",
       "#T_1fe27_row6_col2 {\n",
       "  width: 10em;\n",
       "  background: linear-gradient(90deg, transparent 49.1%, #d65f5f 49.1%, #d65f5f 56.3%, transparent 56.3%);\n",
       "}\n",
       "#T_1fe27_row7_col2 {\n",
       "  width: 10em;\n",
       "  background: linear-gradient(90deg, transparent 56.3%, #5fba7d 56.3%, #5fba7d 61.3%, transparent 61.3%);\n",
       "}\n",
       "#T_1fe27_row8_col2 {\n",
       "  width: 10em;\n",
       "  background: linear-gradient(90deg, transparent 54.8%, #d65f5f 54.8%, #d65f5f 56.3%, transparent 56.3%);\n",
       "}\n",
       "</style>\n",
       "<table id=\"T_1fe27\">\n",
       "  <thead>\n",
       "    <tr>\n",
       "      <th class=\"blank level0\" >&nbsp;</th>\n",
       "      <th id=\"T_1fe27_level0_col0\" class=\"col_heading level0 col0\" >Mentally Limited</th>\n",
       "      <th id=\"T_1fe27_level0_col1\" class=\"col_heading level0 col1\" >Not Mentally Limited</th>\n",
       "      <th id=\"T_1fe27_level0_col2\" class=\"col_heading level0 col2\" >Diff_Ed_Vals</th>\n",
       "    </tr>\n",
       "    <tr>\n",
       "      <th class=\"index_name level0\" >EdLevel</th>\n",
       "      <th class=\"blank col0\" >&nbsp;</th>\n",
       "      <th class=\"blank col1\" >&nbsp;</th>\n",
       "      <th class=\"blank col2\" >&nbsp;</th>\n",
       "    </tr>\n",
       "  </thead>\n",
       "  <tbody>\n",
       "    <tr>\n",
       "      <th id=\"T_1fe27_level0_row0\" class=\"row_heading level0 row0\" >Bachelorâs degree (B.A., B.S., B.Eng., etc.)</th>\n",
       "      <td id=\"T_1fe27_row0_col0\" class=\"data row0 col0\" >0.401528</td>\n",
       "      <td id=\"T_1fe27_row0_col1\" class=\"data row0 col1\" >0.433777</td>\n",
       "      <td id=\"T_1fe27_row0_col2\" class=\"data row0 col2\" >-0.032248</td>\n",
       "    </tr>\n",
       "    <tr>\n",
       "      <th id=\"T_1fe27_level0_row1\" class=\"row_heading level0 row1\" >Some college/university study without earning a degree</th>\n",
       "      <td id=\"T_1fe27_row1_col0\" class=\"data row1 col0\" >0.178615</td>\n",
       "      <td id=\"T_1fe27_row1_col1\" class=\"data row1 col1\" >0.114689</td>\n",
       "      <td id=\"T_1fe27_row1_col2\" class=\"data row1 col2\" >0.063927</td>\n",
       "    </tr>\n",
       "    <tr>\n",
       "      <th id=\"T_1fe27_level0_row2\" class=\"row_heading level0 row2\" >Masterâs degree (M.A., M.S., M.Eng., MBA, etc.)</th>\n",
       "      <td id=\"T_1fe27_row2_col0\" class=\"data row2 col0\" >0.146428</td>\n",
       "      <td id=\"T_1fe27_row2_col1\" class=\"data row2 col1\" >0.228685</td>\n",
       "      <td id=\"T_1fe27_row2_col2\" class=\"data row2 col2\" >-0.082257</td>\n",
       "    </tr>\n",
       "    <tr>\n",
       "      <th id=\"T_1fe27_level0_row3\" class=\"row_heading level0 row3\" >Secondary school (e.g. American high school, German Realschule or Gymnasium, etc.)</th>\n",
       "      <td id=\"T_1fe27_row3_col0\" class=\"data row3 col0\" >0.139563</td>\n",
       "      <td id=\"T_1fe27_row3_col1\" class=\"data row3 col1\" >0.108586</td>\n",
       "      <td id=\"T_1fe27_row3_col2\" class=\"data row3 col2\" >0.030977</td>\n",
       "    </tr>\n",
       "    <tr>\n",
       "      <th id=\"T_1fe27_level0_row4\" class=\"row_heading level0 row4\" >Associate degree (A.A., A.S., etc.)</th>\n",
       "      <td id=\"T_1fe27_row4_col0\" class=\"data row4 col0\" >0.040218</td>\n",
       "      <td id=\"T_1fe27_row4_col1\" class=\"data row4 col1\" >0.023541</td>\n",
       "      <td id=\"T_1fe27_row4_col2\" class=\"data row4 col2\" >0.016677</td>\n",
       "    </tr>\n",
       "    <tr>\n",
       "      <th id=\"T_1fe27_level0_row5\" class=\"row_heading level0 row5\" >Primary/elementary school</th>\n",
       "      <td id=\"T_1fe27_row5_col0\" class=\"data row5 col0\" >0.035231</td>\n",
       "      <td id=\"T_1fe27_row5_col1\" class=\"data row5 col1\" >0.026876</td>\n",
       "      <td id=\"T_1fe27_row5_col2\" class=\"data row5 col2\" >0.008355</td>\n",
       "    </tr>\n",
       "    <tr>\n",
       "      <th id=\"T_1fe27_level0_row6\" class=\"row_heading level0 row6\" >Other doctoral degree (Ph.D., Ed.D., etc.)</th>\n",
       "      <td id=\"T_1fe27_row6_col0\" class=\"data row6 col0\" >0.022732</td>\n",
       "      <td id=\"T_1fe27_row6_col1\" class=\"data row6 col1\" >0.033280</td>\n",
       "      <td id=\"T_1fe27_row6_col2\" class=\"data row6 col2\" >-0.010548</td>\n",
       "    </tr>\n",
       "    <tr>\n",
       "      <th id=\"T_1fe27_level0_row7\" class=\"row_heading level0 row7\" >Something else</th>\n",
       "      <td id=\"T_1fe27_row7_col0\" class=\"data row7 col0\" >0.022602</td>\n",
       "      <td id=\"T_1fe27_row7_col1\" class=\"data row7 col1\" >0.015274</td>\n",
       "      <td id=\"T_1fe27_row7_col2\" class=\"data row7 col2\" >0.007328</td>\n",
       "    </tr>\n",
       "    <tr>\n",
       "      <th id=\"T_1fe27_level0_row8\" class=\"row_heading level0 row8\" >Professional degree (JD, MD, etc.)</th>\n",
       "      <td id=\"T_1fe27_row8_col0\" class=\"data row8 col0\" >0.013082</td>\n",
       "      <td id=\"T_1fe27_row8_col1\" class=\"data row8 col1\" >0.015292</td>\n",
       "      <td id=\"T_1fe27_row8_col2\" class=\"data row8 col2\" >-0.002210</td>\n",
       "    </tr>\n",
       "  </tbody>\n",
       "</table>\n"
      ],
      "text/plain": [
       "<pandas.io.formats.style.Styler at 0x1a7514b45e0>"
      ]
     },
     "execution_count": 24,
     "metadata": {},
     "output_type": "execute_result"
    }
   ],
   "source": [
    "# visualize the differences in degree of education of both groups\n",
    "\n",
    "mean_mh_perc = calc_dist_ed_level(df_mh) # get the distribution of the degrees of education of participants mentally battered\n",
    "mean_not_mh_perc = calc_dist_ed_level(df_not_mh) # get the distribution of the degrees of education of participants not mentally battered\n",
    "\n",
    "comp_df = pd.merge(mean_mh_perc, mean_not_mh_perc, left_index=True, right_index=True) # merge both datasets\n",
    "comp_df.columns = ['Mentally Limited', 'Not Mentally Limited'] # rename columns\n",
    "comp_df['Diff_Ed_Vals'] = comp_df['Mentally Limited'] - comp_df['Not Mentally Limited'] # calculate the differences\n",
    "comp_df.style.bar(subset=['Diff_Ed_Vals'], align='mid', color=['#d65f5f', '#5fba7d']) # plot the columns and the differences"
   ]
  },
  {
   "cell_type": "markdown",
   "id": "ddb7b8d5",
   "metadata": {},
   "source": [
    "The results are similar to those of the physically limited. Respondents with a mental limitation have a higher average salary but a lower average educational degree."
   ]
  },
  {
   "cell_type": "markdown",
   "id": "12457073",
   "metadata": {},
   "source": [
    "## Sexuality\n",
    "Thirdly we will have a look at sexuality. The dataset is divided into 2. In the first dataset are all respondents who did NOT answer that they are Straight / Heterosexual. In the other are those who have indicated that they are."
   ]
  },
  {
   "cell_type": "code",
   "execution_count": 25,
   "id": "7b371613",
   "metadata": {},
   "outputs": [],
   "source": [
    "df_not_str = df_str_all[df_str_all.Sexuality != 'Straight / Heterosexual'] # Dataset with not Heterosexual participants\n",
    "df_str = df_str_all[df_str_all.Sexuality == 'Straight / Heterosexual'] # Dataset with Heterosexual participants"
   ]
  },
  {
   "cell_type": "code",
   "execution_count": 26,
   "id": "3c8dde07",
   "metadata": {},
   "outputs": [
    {
     "name": "stdout",
     "output_type": "stream",
     "text": [
      "Number Not Straight / Heterosexual Participants 7489, 0.11%, \n",
      "Number Straight / Heterosexual Participants 61094, 0.89%\n"
     ]
    }
   ],
   "source": [
    "print('Number Not Straight / Heterosexual Participants', str(df_not_str.shape[0])+',', str(round(df_not_str.shape[0]/(df_not_str.shape[0]+df_str.shape[0]),2))+'%,', '\\nNumber Straight / Heterosexual Participants', str(df_str.shape[0])+',', str(round(df_str.shape[0]/(df_not_str.shape[0]+df_str.shape[0]),2))+'%')"
   ]
  },
  {
   "cell_type": "code",
   "execution_count": 27,
   "id": "96b8445e",
   "metadata": {},
   "outputs": [
    {
     "name": "stdout",
     "output_type": "stream",
     "text": [
      "Mean Salary Not Straight / Heterosexual Participants: 138403.13 \n",
      "Mean Salary Straight / Heterosexual Participants: 115701.71 \n",
      "Difference: 22701.42\n"
     ]
    }
   ],
   "source": [
    "# calculate the mean compensation for both groups \n",
    "\n",
    "mean_not_str = round(df_not_str.ConvertedCompYearly.mean(), 2)\n",
    "mean_str = round(df_str.ConvertedCompYearly.mean(), 2)\n",
    " \n",
    "print('Mean Salary Not Straight / Heterosexual Participants:', mean_not_str, '\\nMean Salary Straight / Heterosexual Participants:', mean_str, '\\nDifference:', round(mean_not_str-mean_str, 2))"
   ]
  },
  {
   "cell_type": "code",
   "execution_count": 28,
   "id": "6eaa1717",
   "metadata": {},
   "outputs": [
    {
     "data": {
      "text/html": [
       "<style type=\"text/css\">\n",
       "#T_cd0da_row0_col2 {\n",
       "  width: 10em;\n",
       "  background: linear-gradient(90deg, #d65f5f 59.7%, transparent 59.7%);\n",
       "}\n",
       "#T_cd0da_row1_col2 {\n",
       "  width: 10em;\n",
       "  background: linear-gradient(90deg, transparent 59.7%, #5fba7d 59.7%, #5fba7d 94.9%, transparent 94.9%);\n",
       "}\n",
       "#T_cd0da_row2_col2 {\n",
       "  width: 10em;\n",
       "  background: linear-gradient(90deg, transparent 7.9%, #d65f5f 7.9%, #d65f5f 59.7%, transparent 59.7%);\n",
       "}\n",
       "#T_cd0da_row3_col2 {\n",
       "  width: 10em;\n",
       "  background: linear-gradient(90deg, transparent 59.7%, #5fba7d 59.7%, #5fba7d 100.0%, transparent 100.0%);\n",
       "}\n",
       "#T_cd0da_row4_col2 {\n",
       "  width: 10em;\n",
       "  background: linear-gradient(90deg, transparent 59.7%, #5fba7d 59.7%, #5fba7d 83.2%, transparent 83.2%);\n",
       "}\n",
       "#T_cd0da_row5_col2 {\n",
       "  width: 10em;\n",
       "  background: linear-gradient(90deg, transparent 59.7%, #5fba7d 59.7%, #5fba7d 65.6%, transparent 65.6%);\n",
       "}\n",
       "#T_cd0da_row6_col2 {\n",
       "  width: 10em;\n",
       "  background: linear-gradient(90deg, transparent 56.5%, #d65f5f 56.5%, #d65f5f 59.7%, transparent 59.7%);\n",
       "}\n",
       "#T_cd0da_row7_col2 {\n",
       "  width: 10em;\n",
       "  background: linear-gradient(90deg, transparent 59.7%, #5fba7d 59.7%, #5fba7d 71.4%, transparent 71.4%);\n",
       "}\n",
       "#T_cd0da_row8_col2 {\n",
       "  width: 10em;\n",
       "  background: linear-gradient(90deg, transparent 57.6%, #d65f5f 57.6%, #d65f5f 59.7%, transparent 59.7%);\n",
       "}\n",
       "</style>\n",
       "<table id=\"T_cd0da\">\n",
       "  <thead>\n",
       "    <tr>\n",
       "      <th class=\"blank level0\" >&nbsp;</th>\n",
       "      <th id=\"T_cd0da_level0_col0\" class=\"col_heading level0 col0\" >Not Straight / Heterosexual</th>\n",
       "      <th id=\"T_cd0da_level0_col1\" class=\"col_heading level0 col1\" >Straight / Heterosexual</th>\n",
       "      <th id=\"T_cd0da_level0_col2\" class=\"col_heading level0 col2\" >Diff_Ed_Vals</th>\n",
       "    </tr>\n",
       "    <tr>\n",
       "      <th class=\"index_name level0\" >EdLevel</th>\n",
       "      <th class=\"blank col0\" >&nbsp;</th>\n",
       "      <th class=\"blank col1\" >&nbsp;</th>\n",
       "      <th class=\"blank col2\" >&nbsp;</th>\n",
       "    </tr>\n",
       "  </thead>\n",
       "  <tbody>\n",
       "    <tr>\n",
       "      <th id=\"T_cd0da_level0_row0\" class=\"row_heading level0 row0\" >Bachelorâs degree (B.A., B.S., B.Eng., etc.)</th>\n",
       "      <td id=\"T_cd0da_row0_col0\" class=\"data row0 col0\" >0.371536</td>\n",
       "      <td id=\"T_cd0da_row0_col1\" class=\"data row0 col1\" >0.435967</td>\n",
       "      <td id=\"T_cd0da_row0_col2\" class=\"data row0 col2\" >-0.064431</td>\n",
       "    </tr>\n",
       "    <tr>\n",
       "      <th id=\"T_cd0da_level0_row1\" class=\"row_heading level0 row1\" >Some college/university study without earning a degree</th>\n",
       "      <td id=\"T_cd0da_row1_col0\" class=\"data row1 col0\" >0.166421</td>\n",
       "      <td id=\"T_cd0da_row1_col1\" class=\"data row1 col1\" >0.128361</td>\n",
       "      <td id=\"T_cd0da_row1_col2\" class=\"data row1 col2\" >0.038060</td>\n",
       "    </tr>\n",
       "    <tr>\n",
       "      <th id=\"T_cd0da_level0_row2\" class=\"row_heading level0 row2\" >Masterâs degree (M.A., M.S., M.Eng., MBA, etc.)</th>\n",
       "      <td id=\"T_cd0da_row2_col0\" class=\"data row2 col0\" >0.161200</td>\n",
       "      <td id=\"T_cd0da_row2_col1\" class=\"data row2 col1\" >0.217148</td>\n",
       "      <td id=\"T_cd0da_row2_col2\" class=\"data row2 col2\" >-0.055948</td>\n",
       "    </tr>\n",
       "    <tr>\n",
       "      <th id=\"T_cd0da_level0_row3\" class=\"row_heading level0 row3\" >Secondary school (e.g. American high school, German Realschule or Gymnasium, etc.)</th>\n",
       "      <td id=\"T_cd0da_row3_col0\" class=\"data row3 col0\" >0.152095</td>\n",
       "      <td id=\"T_cd0da_row3_col1\" class=\"data row3 col1\" >0.108566</td>\n",
       "      <td id=\"T_cd0da_row3_col2\" class=\"data row3 col2\" >0.043530</td>\n",
       "    </tr>\n",
       "    <tr>\n",
       "      <th id=\"T_cd0da_level0_row4\" class=\"row_heading level0 row4\" >Primary/elementary school</th>\n",
       "      <td id=\"T_cd0da_row4_col0\" class=\"data row4 col0\" >0.046726</td>\n",
       "      <td id=\"T_cd0da_row4_col1\" class=\"data row4 col1\" >0.021303</td>\n",
       "      <td id=\"T_cd0da_row4_col2\" class=\"data row4 col2\" >0.025423</td>\n",
       "    </tr>\n",
       "    <tr>\n",
       "      <th id=\"T_cd0da_level0_row5\" class=\"row_heading level0 row5\" >Associate degree (A.A., A.S., etc.)</th>\n",
       "      <td id=\"T_cd0da_row5_col0\" class=\"data row5 col0\" >0.034007</td>\n",
       "      <td id=\"T_cd0da_row5_col1\" class=\"data row5 col1\" >0.027596</td>\n",
       "      <td id=\"T_cd0da_row5_col2\" class=\"data row5 col2\" >0.006411</td>\n",
       "    </tr>\n",
       "    <tr>\n",
       "      <th id=\"T_cd0da_level0_row6\" class=\"row_heading level0 row6\" >Other doctoral degree (Ph.D., Ed.D., etc.)</th>\n",
       "      <td id=\"T_cd0da_row6_col0\" class=\"data row6 col0\" >0.027982</td>\n",
       "      <td id=\"T_cd0da_row6_col1\" class=\"data row6 col1\" >0.031447</td>\n",
       "      <td id=\"T_cd0da_row6_col2\" class=\"data row6 col2\" >-0.003465</td>\n",
       "    </tr>\n",
       "    <tr>\n",
       "      <th id=\"T_cd0da_level0_row7\" class=\"row_heading level0 row7\" >Something else</th>\n",
       "      <td id=\"T_cd0da_row7_col0\" class=\"data row7 col0\" >0.027179</td>\n",
       "      <td id=\"T_cd0da_row7_col1\" class=\"data row7 col1\" >0.014503</td>\n",
       "      <td id=\"T_cd0da_row7_col2\" class=\"data row7 col2\" >0.012676</td>\n",
       "    </tr>\n",
       "    <tr>\n",
       "      <th id=\"T_cd0da_level0_row8\" class=\"row_heading level0 row8\" >Professional degree (JD, MD, etc.)</th>\n",
       "      <td id=\"T_cd0da_row8_col0\" class=\"data row8 col0\" >0.012853</td>\n",
       "      <td id=\"T_cd0da_row8_col1\" class=\"data row8 col1\" >0.015109</td>\n",
       "      <td id=\"T_cd0da_row8_col2\" class=\"data row8 col2\" >-0.002256</td>\n",
       "    </tr>\n",
       "  </tbody>\n",
       "</table>\n"
      ],
      "text/plain": [
       "<pandas.io.formats.style.Styler at 0x1a7514981c0>"
      ]
     },
     "execution_count": 28,
     "metadata": {},
     "output_type": "execute_result"
    }
   ],
   "source": [
    "# visualize the differences in degree of education of both groups\n",
    "\n",
    "mean_not_str_perc = calc_dist_ed_level(df_not_str) # get the distribution of the degrees of education of Not Straight / Heterosexual participants\n",
    "mean_str_perc = calc_dist_ed_level(df_str) # get the distribution of the degrees of education of Straight / Heterosexual participants\n",
    "\n",
    "comp_df = pd.merge(mean_not_str_perc, mean_str_perc, left_index=True, right_index=True) # merge both datasets\n",
    "comp_df.columns = ['Not Straight / Heterosexual', 'Straight / Heterosexual'] # rename columns\n",
    "comp_df['Diff_Ed_Vals'] = comp_df['Not Straight / Heterosexual'] - comp_df['Straight / Heterosexual'] # calculate the differences\n",
    "comp_df.style.bar(subset=['Diff_Ed_Vals'], align='mid', color=['#d65f5f', '#5fba7d']) # plot the columns and the differences"
   ]
  },
  {
   "cell_type": "markdown",
   "id": "43ae4b73",
   "metadata": {},
   "source": [
    "Once again we see a familiar picture. The special group earns more money but has lower average educational degree."
   ]
  },
  {
   "cell_type": "markdown",
   "id": "78b5f4cb",
   "metadata": {},
   "source": [
    "## Transsexuality\n",
    "Finally we will have a look at transsexuality. The dataset is divided into 2. In the first dataset are all respondents who did answer that they are trans. In the other are those who have indicated that they are not."
   ]
  },
  {
   "cell_type": "code",
   "execution_count": 29,
   "id": "33fa30ed",
   "metadata": {},
   "outputs": [],
   "source": [
    "df_Trans = df_trans_all[df_trans_all.Trans == 'Yes'] # Dataset with trans participants\n",
    "df_not_Trans = df_trans_all[df_trans_all.Trans == 'No'] # Dataset without trans participants"
   ]
  },
  {
   "cell_type": "code",
   "execution_count": 30,
   "id": "c98e3ad5",
   "metadata": {},
   "outputs": [
    {
     "name": "stdout",
     "output_type": "stream",
     "text": [
      "Number Trans Participants: 1035, 0.01%, \n",
      "Number Not Trans Participants: 77275, 0.99%\n"
     ]
    }
   ],
   "source": [
    "print('Number Trans Participants:', str(df_Trans.shape[0])+',', str(round(df_Trans.shape[0]/(df_Trans.shape[0]+df_not_Trans.shape[0]),2))+'%,', '\\nNumber Not Trans Participants:', str(df_not_Trans.shape[0])+',', str(round(df_not_Trans.shape[0]/(df_Trans.shape[0]+df_not_Trans.shape[0]),2))+'%')"
   ]
  },
  {
   "cell_type": "code",
   "execution_count": 31,
   "id": "6da96c9d",
   "metadata": {},
   "outputs": [
    {
     "name": "stdout",
     "output_type": "stream",
     "text": [
      "Mean Salary Trans Participants: 310826.22 \n",
      "Mean Salary Not Trans Participants: 115441.12 \n",
      "Difference: 195385.1\n"
     ]
    }
   ],
   "source": [
    "# calculate the mean compensation for both groups \n",
    "\n",
    "mean_Trans = round(df_Trans.ConvertedCompYearly.mean(), 2)\n",
    "mean_not_Trans = round(df_not_Trans.ConvertedCompYearly.mean(), 2)\n",
    " \n",
    "print('Mean Salary Trans Participants:', mean_Trans, '\\nMean Salary Not Trans Participants:', mean_not_Trans, '\\nDifference:', round(mean_Trans-mean_not_Trans, 2))"
   ]
  },
  {
   "cell_type": "code",
   "execution_count": 32,
   "id": "4fcf090b",
   "metadata": {},
   "outputs": [
    {
     "data": {
      "text/html": [
       "<style type=\"text/css\">\n",
       "#T_e4a02_row0_col2 {\n",
       "  width: 10em;\n",
       "  background: linear-gradient(90deg, #d65f5f 62.5%, transparent 62.5%);\n",
       "}\n",
       "#T_e4a02_row1_col2 {\n",
       "  width: 10em;\n",
       "  background: linear-gradient(90deg, transparent 62.5%, #5fba7d 62.5%, #5fba7d 98.5%, transparent 98.5%);\n",
       "}\n",
       "#T_e4a02_row2_col2 {\n",
       "  width: 10em;\n",
       "  background: linear-gradient(90deg, transparent 62.5%, #5fba7d 62.5%, #5fba7d 83.2%, transparent 83.2%);\n",
       "}\n",
       "#T_e4a02_row3_col2 {\n",
       "  width: 10em;\n",
       "  background: linear-gradient(90deg, transparent 14.9%, #d65f5f 14.9%, #d65f5f 62.5%, transparent 62.5%);\n",
       "}\n",
       "#T_e4a02_row4_col2 {\n",
       "  width: 10em;\n",
       "  background: linear-gradient(90deg, transparent 62.5%, #5fba7d 62.5%, #5fba7d 100.0%, transparent 100.0%);\n",
       "}\n",
       "#T_e4a02_row5_col2 {\n",
       "  width: 10em;\n",
       "  background: linear-gradient(90deg, transparent 62.5%, #5fba7d 62.5%, #5fba7d 72.9%, transparent 72.9%);\n",
       "}\n",
       "#T_e4a02_row6_col2 {\n",
       "  width: 10em;\n",
       "  background: linear-gradient(90deg, transparent 62.5%, #5fba7d 62.5%, #5fba7d 72.0%, transparent 72.0%);\n",
       "}\n",
       "#T_e4a02_row7_col2 {\n",
       "  width: 10em;\n",
       "  background: linear-gradient(90deg, transparent 57.2%, #d65f5f 57.2%, #d65f5f 62.5%, transparent 62.5%);\n",
       "}\n",
       "#T_e4a02_row8_col2 {\n",
       "  width: 10em;\n",
       "  background: linear-gradient(90deg, transparent 62.5%, #5fba7d 62.5%, #5fba7d 63.9%, transparent 63.9%);\n",
       "}\n",
       "</style>\n",
       "<table id=\"T_e4a02\">\n",
       "  <thead>\n",
       "    <tr>\n",
       "      <th class=\"blank level0\" >&nbsp;</th>\n",
       "      <th id=\"T_e4a02_level0_col0\" class=\"col_heading level0 col0\" >Trans</th>\n",
       "      <th id=\"T_e4a02_level0_col1\" class=\"col_heading level0 col1\" >Not Trans</th>\n",
       "      <th id=\"T_e4a02_level0_col2\" class=\"col_heading level0 col2\" >Diff_Ed_Vals</th>\n",
       "    </tr>\n",
       "    <tr>\n",
       "      <th class=\"index_name level0\" >EdLevel</th>\n",
       "      <th class=\"blank col0\" >&nbsp;</th>\n",
       "      <th class=\"blank col1\" >&nbsp;</th>\n",
       "      <th class=\"blank col2\" >&nbsp;</th>\n",
       "    </tr>\n",
       "  </thead>\n",
       "  <tbody>\n",
       "    <tr>\n",
       "      <th id=\"T_e4a02_level0_row0\" class=\"row_heading level0 row0\" >Bachelorâs degree (B.A., B.S., B.Eng., etc.)</th>\n",
       "      <td id=\"T_e4a02_row0_col0\" class=\"data row0 col0\" >0.310311</td>\n",
       "      <td id=\"T_e4a02_row0_col1\" class=\"data row0 col1\" >0.429440</td>\n",
       "      <td id=\"T_e4a02_row0_col2\" class=\"data row0 col2\" >-0.119129</td>\n",
       "    </tr>\n",
       "    <tr>\n",
       "      <th id=\"T_e4a02_level0_row1\" class=\"row_heading level0 row1\" >Secondary school (e.g. American high school, German Realschule or Gymnasium, etc.)</th>\n",
       "      <td id=\"T_e4a02_row1_col0\" class=\"data row1 col0\" >0.182879</td>\n",
       "      <td id=\"T_e4a02_row1_col1\" class=\"data row1 col1\" >0.114384</td>\n",
       "      <td id=\"T_e4a02_row1_col2\" class=\"data row1 col2\" >0.068495</td>\n",
       "    </tr>\n",
       "    <tr>\n",
       "      <th id=\"T_e4a02_level0_row2\" class=\"row_heading level0 row2\" >Some college/university study without earning a degree</th>\n",
       "      <td id=\"T_e4a02_row2_col0\" class=\"data row2 col0\" >0.167315</td>\n",
       "      <td id=\"T_e4a02_row2_col1\" class=\"data row2 col1\" >0.127869</td>\n",
       "      <td id=\"T_e4a02_row2_col2\" class=\"data row2 col2\" >0.039446</td>\n",
       "    </tr>\n",
       "    <tr>\n",
       "      <th id=\"T_e4a02_level0_row3\" class=\"row_heading level0 row3\" >Masterâs degree (M.A., M.S., M.Eng., MBA, etc.)</th>\n",
       "      <td id=\"T_e4a02_row3_col0\" class=\"data row3 col0\" >0.120623</td>\n",
       "      <td id=\"T_e4a02_row3_col1\" class=\"data row3 col1\" >0.211368</td>\n",
       "      <td id=\"T_e4a02_row3_col2\" class=\"data row3 col2\" >-0.090746</td>\n",
       "    </tr>\n",
       "    <tr>\n",
       "      <th id=\"T_e4a02_level0_row4\" class=\"row_heading level0 row4\" >Primary/elementary school</th>\n",
       "      <td id=\"T_e4a02_row4_col0\" class=\"data row4 col0\" >0.099222</td>\n",
       "      <td id=\"T_e4a02_row4_col1\" class=\"data row4 col1\" >0.027786</td>\n",
       "      <td id=\"T_e4a02_row4_col2\" class=\"data row4 col2\" >0.071436</td>\n",
       "    </tr>\n",
       "    <tr>\n",
       "      <th id=\"T_e4a02_level0_row5\" class=\"row_heading level0 row5\" >Associate degree (A.A., A.S., etc.)</th>\n",
       "      <td id=\"T_e4a02_row5_col0\" class=\"data row5 col0\" >0.046693</td>\n",
       "      <td id=\"T_e4a02_row5_col1\" class=\"data row5 col1\" >0.026878</td>\n",
       "      <td id=\"T_e4a02_row5_col2\" class=\"data row5 col2\" >0.019815</td>\n",
       "    </tr>\n",
       "    <tr>\n",
       "      <th id=\"T_e4a02_level0_row6\" class=\"row_heading level0 row6\" >Something else</th>\n",
       "      <td id=\"T_e4a02_row6_col0\" class=\"data row6 col0\" >0.035019</td>\n",
       "      <td id=\"T_e4a02_row6_col1\" class=\"data row6 col1\" >0.016881</td>\n",
       "      <td id=\"T_e4a02_row6_col2\" class=\"data row6 col2\" >0.018138</td>\n",
       "    </tr>\n",
       "    <tr>\n",
       "      <th id=\"T_e4a02_level0_row7\" class=\"row_heading level0 row7\" >Other doctoral degree (Ph.D., Ed.D., etc.)</th>\n",
       "      <td id=\"T_e4a02_row7_col0\" class=\"data row7 col0\" >0.020428</td>\n",
       "      <td id=\"T_e4a02_row7_col1\" class=\"data row7 col1\" >0.030560</td>\n",
       "      <td id=\"T_e4a02_row7_col2\" class=\"data row7 col2\" >-0.010132</td>\n",
       "    </tr>\n",
       "    <tr>\n",
       "      <th id=\"T_e4a02_level0_row8\" class=\"row_heading level0 row8\" >Professional degree (JD, MD, etc.)</th>\n",
       "      <td id=\"T_e4a02_row8_col0\" class=\"data row8 col0\" >0.017510</td>\n",
       "      <td id=\"T_e4a02_row8_col1\" class=\"data row8 col1\" >0.014833</td>\n",
       "      <td id=\"T_e4a02_row8_col2\" class=\"data row8 col2\" >0.002677</td>\n",
       "    </tr>\n",
       "  </tbody>\n",
       "</table>\n"
      ],
      "text/plain": [
       "<pandas.io.formats.style.Styler at 0x1a7514d8070>"
      ]
     },
     "execution_count": 32,
     "metadata": {},
     "output_type": "execute_result"
    }
   ],
   "source": [
    "# visualize the differences in degree of education of both groups\n",
    "\n",
    "mean_Trans_perc = calc_dist_ed_level(df_Trans) # get the distribution of the degrees of education of trans participants\n",
    "mean_not_Trans_perc = calc_dist_ed_level(df_not_Trans) # get the distribution of the degrees of education of not trans participants\n",
    "\n",
    "comp_df = pd.merge(mean_Trans_perc, mean_not_Trans_perc, left_index=True, right_index=True) # merge both datasets\n",
    "comp_df.columns = ['Trans', 'Not Trans'] # rename columns\n",
    "comp_df['Diff_Ed_Vals'] = comp_df['Trans'] - comp_df['Not Trans'] # calculate the differences\n",
    "comp_df.style.bar(subset=['Diff_Ed_Vals'], align='mid', color=['#d65f5f', '#5fba7d']) # plot the columns and the differences"
   ]
  },
  {
   "cell_type": "markdown",
   "id": "02287b25",
   "metadata": {},
   "source": [
    "Again the same results. Trans people have a higher average income but a lower average level of education."
   ]
  },
  {
   "cell_type": "markdown",
   "id": "0c3504a7",
   "metadata": {},
   "source": [
    "# Communicate your Business Insights\n",
    "\n",
    "A more detailed description and interpretation of the results is written in the following Medium blogpost: https://medium.com/@marco.schlinger/has-equal-opportunity-finally-arrived-in-society-853f4c7e3566 "
   ]
  },
  {
   "cell_type": "markdown",
   "id": "e9751c7d",
   "metadata": {},
   "source": [
    "# Conclusions\n",
    "\n",
    "The same applies to all four groups of people shown: The special group earns more money on average, although their level of education is lower on average. The higher average salary could give the impression that the disadvantages of the special groups have been compensated by society, but a look at the average educational level of the special groups contradicts this. Individuals from these groups are less likely to achieve a university degree, and this can be attributed solely to their particular circumstances. It seems that it is still more difficult for them to obtain a degree than for the average person. But one thing the data also shows is that if someone takes on the challenge of the special situation and learns life lessons from it (for example, persistence, ambition, and discipline), it will pay off in their career and their salary."
   ]
  }
 ],
 "metadata": {
  "kernelspec": {
   "display_name": "Python 3 (ipykernel)",
   "language": "python",
   "name": "python3"
  },
  "language_info": {
   "codemirror_mode": {
    "name": "ipython",
    "version": 3
   },
   "file_extension": ".py",
   "mimetype": "text/x-python",
   "name": "python",
   "nbconvert_exporter": "python",
   "pygments_lexer": "ipython3",
   "version": "3.9.12"
  }
 },
 "nbformat": 4,
 "nbformat_minor": 5
}
